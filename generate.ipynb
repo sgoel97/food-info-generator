{
 "cells": [
  {
   "cell_type": "markdown",
   "id": "e7048859",
   "metadata": {},
   "source": [
    "## Choose Dataset"
   ]
  },
  {
   "cell_type": "code",
   "execution_count": 8,
   "id": "263dcf4e",
   "metadata": {},
   "outputs": [],
   "source": [
    "dataset = 'chicago-restaurants'\n",
    "location = 'chicago'"
   ]
  },
  {
   "cell_type": "markdown",
   "id": "209151dd",
   "metadata": {},
   "source": [
    "## Script"
   ]
  },
  {
   "cell_type": "code",
   "execution_count": 9,
   "id": "781b6f3a",
   "metadata": {},
   "outputs": [],
   "source": [
    "from generate import run"
   ]
  },
  {
   "cell_type": "code",
   "execution_count": 10,
   "id": "d65aaccb",
   "metadata": {},
   "outputs": [
    {
     "name": "stdout",
     "output_type": "stream",
     "text": [
      "Running...\n",
      "# of Restaurants in Data: 19\n"
     ]
    },
    {
     "name": "stderr",
     "output_type": "stream",
     "text": [
      "100%|███████████████████████████████████████████| 19/19 [00:25<00:00,  1.35s/it]"
     ]
    },
    {
     "name": "stdout",
     "output_type": "stream",
     "text": [
      "\n",
      "Finished!\n",
      "Data Outputted to ./outputs/chicago-restaurants.csv\n"
     ]
    },
    {
     "name": "stderr",
     "output_type": "stream",
     "text": [
      "\n"
     ]
    }
   ],
   "source": [
    "input_path = f'./datasets/{dataset}.txt'\n",
    "output_path = f'./outputs/{dataset}.csv'\n",
    "run(input_path, output_path, location)"
   ]
  },
  {
   "cell_type": "code",
   "execution_count": null,
   "id": "cba91122",
   "metadata": {},
   "outputs": [],
   "source": []
  }
 ],
 "metadata": {
  "kernelspec": {
   "display_name": "Python 3 (ipykernel)",
   "language": "python",
   "name": "python3"
  },
  "language_info": {
   "codemirror_mode": {
    "name": "ipython",
    "version": 3
   },
   "file_extension": ".py",
   "mimetype": "text/x-python",
   "name": "python",
   "nbconvert_exporter": "python",
   "pygments_lexer": "ipython3",
   "version": "3.9.16"
  }
 },
 "nbformat": 4,
 "nbformat_minor": 5
}
