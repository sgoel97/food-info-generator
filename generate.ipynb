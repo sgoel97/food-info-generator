{
 "cells": [
  {
   "cell_type": "markdown",
   "id": "e7048859",
   "metadata": {},
   "source": [
    "## Choose Dataset"
   ]
  },
  {
   "cell_type": "code",
   "execution_count": 4,
   "id": "263dcf4e",
   "metadata": {},
   "outputs": [],
   "source": [
    "dataset = 'nyc-restaurants'\n",
    "location = 'new york city'"
   ]
  },
  {
   "cell_type": "markdown",
   "id": "209151dd",
   "metadata": {},
   "source": [
    "## Script"
   ]
  },
  {
   "cell_type": "code",
   "execution_count": 5,
   "id": "781b6f3a",
   "metadata": {},
   "outputs": [],
   "source": [
    "from generate import run"
   ]
  },
  {
   "cell_type": "code",
   "execution_count": 6,
   "id": "d65aaccb",
   "metadata": {},
   "outputs": [
    {
     "name": "stdout",
     "output_type": "stream",
     "text": [
      "Running...\n",
      "# of Restaurants in Data: 21\n"
     ]
    },
    {
     "name": "stderr",
     "output_type": "stream",
     "text": [
      "100%|███████████████████████████████████████████| 21/21 [00:33<00:00,  1.61s/it]"
     ]
    },
    {
     "name": "stdout",
     "output_type": "stream",
     "text": [
      "\n",
      "Finished!\n",
      "Data Outputted to ./outputs/nyc-restaurants.csv\n"
     ]
    },
    {
     "name": "stderr",
     "output_type": "stream",
     "text": [
      "\n"
     ]
    }
   ],
   "source": [
    "input_path = f'./datasets/{dataset}.txt'\n",
    "output_path = f'./outputs/{dataset}.csv'\n",
    "run(input_path, output_path, location)"
   ]
  },
  {
   "cell_type": "code",
   "execution_count": null,
   "id": "cba91122",
   "metadata": {},
   "outputs": [],
   "source": []
  }
 ],
 "metadata": {
  "kernelspec": {
   "display_name": "Python 3 (ipykernel)",
   "language": "python",
   "name": "python3"
  },
  "language_info": {
   "codemirror_mode": {
    "name": "ipython",
    "version": 3
   },
   "file_extension": ".py",
   "mimetype": "text/x-python",
   "name": "python",
   "nbconvert_exporter": "python",
   "pygments_lexer": "ipython3",
   "version": "3.9.16"
  }
 },
 "nbformat": 4,
 "nbformat_minor": 5
}
