{
 "cells": [
  {
   "cell_type": "markdown",
   "id": "e7048859",
   "metadata": {},
   "source": [
    "## Choose Dataset"
   ]
  },
  {
   "cell_type": "code",
   "execution_count": 1,
   "id": "263dcf4e",
   "metadata": {},
   "outputs": [],
   "source": [
    "data = './nyc-bib-gourmand.txt'\n",
    "output ='nyc-bib-gourmand'\n",
    "location = 'new york'"
   ]
  },
  {
   "cell_type": "markdown",
   "id": "209151dd",
   "metadata": {},
   "source": [
    "## Script"
   ]
  },
  {
   "cell_type": "code",
   "execution_count": 2,
   "id": "781b6f3a",
   "metadata": {},
   "outputs": [],
   "source": [
    "from generate import run"
   ]
  },
  {
   "cell_type": "code",
   "execution_count": 3,
   "id": "d65aaccb",
   "metadata": {},
   "outputs": [
    {
     "name": "stdout",
     "output_type": "stream",
     "text": [
      "Running...\n",
      "# of Restaurants in Data: 4\n",
      "\n"
     ]
    },
    {
     "name": "stderr",
     "output_type": "stream",
     "text": [
      "100%|█████████████████████████████████████████████| 4/4 [00:01<00:00,  3.30it/s]"
     ]
    },
    {
     "name": "stdout",
     "output_type": "stream",
     "text": [
      "Finished!\n",
      "Data Outputted to ./nyc-bib-.csv\n"
     ]
    },
    {
     "name": "stderr",
     "output_type": "stream",
     "text": [
      "\n"
     ]
    }
   ],
   "source": [
    "run(path=data, output_name=output, location=location)"
   ]
  },
  {
   "cell_type": "code",
   "execution_count": null,
   "id": "cba91122",
   "metadata": {},
   "outputs": [],
   "source": []
  }
 ],
 "metadata": {
  "kernelspec": {
   "display_name": "Python 3 (ipykernel)",
   "language": "python",
   "name": "python3"
  },
  "language_info": {
   "codemirror_mode": {
    "name": "ipython",
    "version": 3
   },
   "file_extension": ".py",
   "mimetype": "text/x-python",
   "name": "python",
   "nbconvert_exporter": "python",
   "pygments_lexer": "ipython3",
   "version": "3.9.7"
  }
 },
 "nbformat": 4,
 "nbformat_minor": 5
}
